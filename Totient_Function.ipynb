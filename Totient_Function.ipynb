{
  "nbformat": 4,
  "nbformat_minor": 0,
  "metadata": {
    "colab": {
      "private_outputs": true,
      "provenance": [],
      "authorship_tag": "ABX9TyN6zFXwGbJ17GhLuCTfWQkC",
      "include_colab_link": true
    },
    "kernelspec": {
      "name": "python3",
      "display_name": "Python 3"
    },
    "language_info": {
      "name": "python"
    }
  },
  "cells": [
    {
      "cell_type": "markdown",
      "metadata": {
        "id": "view-in-github",
        "colab_type": "text"
      },
      "source": [
        "<a href=\"https://colab.research.google.com/github/Dhanusshya/Euler-Totient-Primality-test/blob/main/Totient_Function.ipynb\" target=\"_parent\"><img src=\"https://colab.research.google.com/assets/colab-badge.svg\" alt=\"Open In Colab\"/></a>"
      ]
    },
    {
      "cell_type": "markdown",
      "source": [
        "#Euler's Totient Function"
      ],
      "metadata": {
        "id": "7RgauNugeP1S"
      }
    },
    {
      "cell_type": "markdown",
      "source": [
        "Euler's Totient function generates number of numbers less than the given number and coprime to it."
      ],
      "metadata": {
        "id": "z1DoploUeX0o"
      }
    },
    {
      "cell_type": "code",
      "execution_count": null,
      "metadata": {
        "id": "sVGJmqGddYNf"
      },
      "outputs": [],
      "source": [
        "\n",
        "def gcd(a,n):\n",
        "    if(a==n):\n",
        "        p=a\n",
        "    else:\n",
        "        if(a<n):\n",
        "            for i in range(1,a+1):\n",
        "                if (((a%i)==0)and((n%i)==0)):\n",
        "                    p=i\n",
        "        else:\n",
        "            for i in range(1,n+1):\n",
        "                if(((a%i)==0)and((n%i)==0)):\n",
        "                    p=i\n",
        "    return p\n",
        "\n",
        "def totient(n):\n",
        "    s=list()\n",
        "    for i in range(1,n+1):\n",
        "        if (gcd(i,n)==1):\n",
        "            s.append(i)\n",
        "    return s"
      ]
    },
    {
      "cell_type": "code",
      "source": [
        "totient(23)"
      ],
      "metadata": {
        "id": "AIRQqcbedjrN"
      },
      "execution_count": null,
      "outputs": []
    },
    {
      "cell_type": "code",
      "source": [
        "totient(180)"
      ],
      "metadata": {
        "id": "YfiWxHJGd7LL"
      },
      "execution_count": null,
      "outputs": []
    },
    {
      "cell_type": "code",
      "source": [
        "def ntotient(n):\n",
        "  l=len(totient(n))\n",
        "  return l"
      ],
      "metadata": {
        "id": "WwzeuAWle4FH"
      },
      "execution_count": null,
      "outputs": []
    },
    {
      "cell_type": "code",
      "source": [
        "ntotient(23)"
      ],
      "metadata": {
        "id": "CDzmF9bifcnw"
      },
      "execution_count": null,
      "outputs": []
    },
    {
      "cell_type": "code",
      "source": [
        "ntotient(180)"
      ],
      "metadata": {
        "id": "fgfGDOfIgE23"
      },
      "execution_count": null,
      "outputs": []
    }
  ]
}